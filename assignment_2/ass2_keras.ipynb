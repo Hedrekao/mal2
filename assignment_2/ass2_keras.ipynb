{
  "cells": [
    {
      "cell_type": "code",
      "execution_count": 2,
      "metadata": {
        "id": "V2186dUamTYB"
      },
      "outputs": [],
      "source": [
        "import keras\n",
        "import tensorflow as tf\n",
        "import numpy as np\n",
        "from keras import layers\n",
        "from keras import ops\n",
        "import matplotlib.pyplot as plt\n",
        "import os"
      ]
    },
    {
      "cell_type": "code",
      "execution_count": 4,
      "metadata": {
        "id": "3BG3jjxRulIv"
      },
      "outputs": [],
      "source": [
        "# Flag for using Google Colab\n",
        "colab_on = True\n",
        "base_path = \"\""
      ]
    },
    {
      "cell_type": "code",
      "execution_count": 10,
      "metadata": {
        "colab": {
          "base_uri": "https://localhost:8080/"
        },
        "id": "MKhHXtwpulIv",
        "outputId": "b8d289a9-06e0-45e9-bffb-741c6f2b3e54"
      },
      "outputs": [
        {
          "output_type": "stream",
          "name": "stdout",
          "text": [
            "Drive already mounted at /content/drive; to attempt to forcibly remount, call drive.mount(\"/content/drive\", force_remount=True).\n"
          ]
        }
      ],
      "source": [
        "# if we are using google colab we need to mount the drive\n",
        "# and set the base path to the root of the drive\n",
        "if colab_on:\n",
        "    from google.colab import drive\n",
        "    drive.mount('/content/drive')\n",
        "    base_path = '/content/drive/My Drive/assignment2'"
      ]
    },
    {
      "cell_type": "code",
      "execution_count": 11,
      "metadata": {
        "id": "aW_NjKcPulIv"
      },
      "outputs": [],
      "source": [
        "# Loading the data\n",
        "X = np.load(os.path.join(base_path, 'x_letters.npy'))\n",
        "y = np.load(os.path.join(base_path, 'y_letters.npy'))\n",
        "\n",
        "# Converting data to respectively float32 and int64\n",
        "X = X.astype(np.float32)\n",
        "y = y.astype(np.int64)"
      ]
    },
    {
      "cell_type": "code",
      "execution_count": 12,
      "metadata": {
        "id": "Of4pPaaqulIw"
      },
      "outputs": [],
      "source": [
        "y = keras.utils.to_categorical(y, 26)\n",
        "n_classes = y.shape[1]"
      ]
    },
    {
      "cell_type": "code",
      "execution_count": 13,
      "metadata": {
        "colab": {
          "base_uri": "https://localhost:8080/"
        },
        "id": "5atyMjmUulIw",
        "outputId": "1dd42dad-0c01-4db6-a92e-242981731551"
      },
      "outputs": [
        {
          "output_type": "execute_result",
          "data": {
            "text/plain": [
              "((88799, 28, 28), (88799, 26))"
            ]
          },
          "metadata": {},
          "execution_count": 13
        }
      ],
      "source": [
        "X.shape, y.shape"
      ]
    },
    {
      "cell_type": "code",
      "execution_count": 14,
      "metadata": {
        "id": "7SgaWhu-ulIx"
      },
      "outputs": [],
      "source": [
        "batch_size = 32"
      ]
    },
    {
      "cell_type": "code",
      "execution_count": 15,
      "metadata": {
        "id": "nyKUg0sIulIx"
      },
      "outputs": [],
      "source": [
        "# We are combining X and y into singular tensorflow dataset\n",
        "# because the data is ordered (all examples of 0, then all examples of 1, etc.), we need to shuffle it, so our splits contain all classes\n",
        "dataset = tf.data.Dataset.from_tensor_slices((X, y))\n",
        "dataset = dataset.shuffle(buffer_size=1000, reshuffle_each_iteration=True).batch(64)"
      ]
    },
    {
      "cell_type": "code",
      "execution_count": 16,
      "metadata": {
        "id": "9TOu2azumd7F"
      },
      "outputs": [],
      "source": [
        "#Source: https://keras.io/examples/generative/dcgan_overriding_train_step/\n",
        "\n",
        "class GAN(keras.Model):\n",
        "    def __init__(self, discriminator, generator, latent_dim):\n",
        "        super().__init__()\n",
        "        self.discriminator = discriminator\n",
        "        self.generator = generator\n",
        "        self.latent_dim = latent_dim\n",
        "        self.seed_generator = keras.random.SeedGenerator(1337)\n",
        "\n",
        "    def compile(self, d_optimizer, g_optimizer, loss_fn):\n",
        "        super().compile()\n",
        "        self.d_optimizer = d_optimizer\n",
        "        self.g_optimizer = g_optimizer\n",
        "        self.loss_fn = loss_fn\n",
        "        self.d_loss_metric = keras.metrics.Mean(name=\"d_loss\")\n",
        "        self.g_loss_metric = keras.metrics.Mean(name=\"g_loss\")\n",
        "\n",
        "    @property\n",
        "    def metrics(self):\n",
        "        return [self.d_loss_metric, self.g_loss_metric]\n",
        "\n",
        "    def train_step(self, data):\n",
        "        # Sample random points in the latent space\n",
        "\n",
        "        real_images, real_classes = data\n",
        "        batch_size = ops.shape(real_images)[0]\n",
        "        random_latent_vectors = keras.random.normal(\n",
        "            shape=(batch_size, self.latent_dim),\n",
        "            seed = self.seed_generator\n",
        "        )\n",
        "\n",
        "        # Decode them to fake images\n",
        "        generated_images = self.generator([random_latent_vectors, real_classes])\n",
        "\n",
        "        # Combine them with real images\n",
        "        combined_images = ops.concatenate([generated_images, real_images], axis=0)\n",
        "        combined_classes = ops.concatenate([real_classes, real_classes], axis=0)\n",
        "\n",
        "        # Assemble labels discriminating real from fake images\n",
        "        labels = ops.concatenate(\n",
        "            [ops.ones((batch_size, 1)), ops.zeros((batch_size, 1))], axis=0\n",
        "        )\n",
        "        # Add random noise to the labels - important trick!\n",
        "        #basically makes sure the discriminator is not perfect,\n",
        "        #so that the generator never has a chance to learn\n",
        "        labels += 0.05 * tf.random.uniform(tf.shape(labels))\n",
        "\n",
        "        # Train the discriminator\n",
        "        with tf.GradientTape() as tape:\n",
        "            predictions = self.discriminator([combined_images, combined_classes])\n",
        "            d_loss = self.loss_fn(labels, predictions)\n",
        "        grads = tape.gradient(d_loss, self.discriminator.trainable_weights)\n",
        "        self.d_optimizer.apply_gradients(\n",
        "            zip(grads, self.discriminator.trainable_weights)\n",
        "        )\n",
        "\n",
        "        # Sample random points in the latent space\n",
        "        random_latent_vectors = keras.random.normal(\n",
        "            shape=(batch_size, self.latent_dim),\n",
        "            seed = self.seed_generator\n",
        "        )\n",
        "\n",
        "        # Assemble labels that say \"all real images\"\n",
        "        misleading_labels = ops.zeros((batch_size, 1))\n",
        "\n",
        "        # Train the generator (note that we should *not* update the weights\n",
        "        # of the discriminator)!\n",
        "        with tf.GradientTape() as tape:\n",
        "            generated_images = self.generator([random_latent_vectors, real_classes])\n",
        "            predictions = self.discriminator([generated_images, real_classes])\n",
        "            g_loss = self.loss_fn(misleading_labels, predictions)\n",
        "        grads = tape.gradient(g_loss, self.generator.trainable_weights)\n",
        "        self.g_optimizer.apply_gradients(zip(grads, self.generator.trainable_weights))\n",
        "\n",
        "        # Update metrics\n",
        "        self.d_loss_metric.update_state(d_loss)\n",
        "        self.g_loss_metric.update_state(g_loss)\n",
        "        return {\n",
        "            \"d_loss\": self.d_loss_metric.result(),\n",
        "            \"g_loss\": self.g_loss_metric.result(),\n",
        "        }"
      ]
    },
    {
      "cell_type": "code",
      "execution_count": 93,
      "metadata": {
        "id": "PIpXZ5vTqFmy"
      },
      "outputs": [],
      "source": [
        "latent_dim = 32\n",
        "\n",
        "def build_generator():\n",
        "    noise_input = keras.Input(shape=(latent_dim,))\n",
        "    label_input = keras.Input(shape=(n_classes,))\n",
        "\n",
        "    x = layers.Concatenate(axis=-1)([noise_input, label_input])\n",
        "\n",
        "    x = layers.Dense(100, activation=\"relu\", kernel_initializer=\"he_normal\")(x)\n",
        "    x = layers.Dense(150, activation=\"relu\", kernel_initializer=\"he_normal\")(x)\n",
        "    x = layers.Dense(28*28, activation=\"sigmoid\")(x)\n",
        "    output = layers.Reshape((28, 28))(x)\n",
        "\n",
        "    return keras.Model([noise_input, label_input], output, name=\"generator\")\n",
        "\n",
        "def build_discriminator():\n",
        "    image_input = keras.Input(shape=(28, 28))\n",
        "    label_input = keras.Input(shape=(n_classes,))\n",
        "    x = layers.Flatten()(image_input)\n",
        "    x = layers.Concatenate(axis=-1)([x, label_input])\n",
        "    x = layers.Dense(150, activation=\"relu\", kernel_initializer=\"he_normal\")(x)\n",
        "    x = layers.Dense(100, activation=\"relu\", kernel_initializer=\"he_normal\")(x)\n",
        "    output = layers.Dense(1, activation=\"sigmoid\")(x)\n",
        "\n",
        "    return keras.Model([image_input, label_input], output, name=\"discriminator\")\n",
        "\n",
        "\n",
        "generator = build_generator()\n",
        "discriminator = build_discriminator()\n",
        "\n",
        "epochs = 30\n",
        "\n",
        "gan = GAN(discriminator=discriminator, generator=generator, latent_dim=latent_dim)\n",
        "gan.compile(\n",
        "    d_optimizer=keras.optimizers.RMSprop(learning_rate=0.001),\n",
        "    g_optimizer=keras.optimizers.RMSprop(learning_rate=0.003),\n",
        "    loss_fn=keras.losses.BinaryCrossentropy(),\n",
        ")\n"
      ]
    },
    {
      "cell_type": "code",
      "source": [
        "gan.fit(dataset, epochs=epochs)"
      ],
      "metadata": {
        "colab": {
          "base_uri": "https://localhost:8080/"
        },
        "id": "e4hyvEa8v8v9",
        "outputId": "0ead83a3-6de9-454b-f414-5c4d3ef7969a"
      },
      "execution_count": 94,
      "outputs": [
        {
          "output_type": "stream",
          "name": "stdout",
          "text": [
            "Epoch 1/30\n",
            "\u001b[1m1388/1388\u001b[0m \u001b[32m━━━━━━━━━━━━━━━━━━━━\u001b[0m\u001b[37m\u001b[0m \u001b[1m8s\u001b[0m 3ms/step - d_loss: 0.6258 - g_loss: 1.6831\n",
            "Epoch 2/30\n",
            "\u001b[1m1388/1388\u001b[0m \u001b[32m━━━━━━━━━━━━━━━━━━━━\u001b[0m\u001b[37m\u001b[0m \u001b[1m3s\u001b[0m 2ms/step - d_loss: 0.5571 - g_loss: 1.6315\n",
            "Epoch 3/30\n",
            "\u001b[1m1388/1388\u001b[0m \u001b[32m━━━━━━━━━━━━━━━━━━━━\u001b[0m\u001b[37m\u001b[0m \u001b[1m3s\u001b[0m 2ms/step - d_loss: 0.4838 - g_loss: 1.7543\n",
            "Epoch 4/30\n",
            "\u001b[1m1388/1388\u001b[0m \u001b[32m━━━━━━━━━━━━━━━━━━━━\u001b[0m\u001b[37m\u001b[0m \u001b[1m3s\u001b[0m 2ms/step - d_loss: 0.4449 - g_loss: 1.9977\n",
            "Epoch 5/30\n",
            "\u001b[1m1388/1388\u001b[0m \u001b[32m━━━━━━━━━━━━━━━━━━━━\u001b[0m\u001b[37m\u001b[0m \u001b[1m3s\u001b[0m 2ms/step - d_loss: 0.4361 - g_loss: 2.0680\n",
            "Epoch 6/30\n",
            "\u001b[1m1388/1388\u001b[0m \u001b[32m━━━━━━━━━━━━━━━━━━━━\u001b[0m\u001b[37m\u001b[0m \u001b[1m3s\u001b[0m 2ms/step - d_loss: 0.4314 - g_loss: 2.1245\n",
            "Epoch 7/30\n",
            "\u001b[1m1388/1388\u001b[0m \u001b[32m━━━━━━━━━━━━━━━━━━━━\u001b[0m\u001b[37m\u001b[0m \u001b[1m2s\u001b[0m 2ms/step - d_loss: 0.4258 - g_loss: 2.1111\n",
            "Epoch 8/30\n",
            "\u001b[1m1388/1388\u001b[0m \u001b[32m━━━━━━━━━━━━━━━━━━━━\u001b[0m\u001b[37m\u001b[0m \u001b[1m3s\u001b[0m 2ms/step - d_loss: 0.4269 - g_loss: 2.1285\n",
            "Epoch 9/30\n",
            "\u001b[1m1388/1388\u001b[0m \u001b[32m━━━━━━━━━━━━━━━━━━━━\u001b[0m\u001b[37m\u001b[0m \u001b[1m3s\u001b[0m 2ms/step - d_loss: 0.4211 - g_loss: 2.1573\n",
            "Epoch 10/30\n",
            "\u001b[1m1388/1388\u001b[0m \u001b[32m━━━━━━━━━━━━━━━━━━━━\u001b[0m\u001b[37m\u001b[0m \u001b[1m3s\u001b[0m 2ms/step - d_loss: 0.4225 - g_loss: 2.1382\n",
            "Epoch 11/30\n",
            "\u001b[1m1388/1388\u001b[0m \u001b[32m━━━━━━━━━━━━━━━━━━━━\u001b[0m\u001b[37m\u001b[0m \u001b[1m3s\u001b[0m 2ms/step - d_loss: 0.4189 - g_loss: 2.1910\n",
            "Epoch 12/30\n",
            "\u001b[1m1388/1388\u001b[0m \u001b[32m━━━━━━━━━━━━━━━━━━━━\u001b[0m\u001b[37m\u001b[0m \u001b[1m3s\u001b[0m 2ms/step - d_loss: 0.4168 - g_loss: 2.1618\n",
            "Epoch 13/30\n",
            "\u001b[1m1388/1388\u001b[0m \u001b[32m━━━━━━━━━━━━━━━━━━━━\u001b[0m\u001b[37m\u001b[0m \u001b[1m3s\u001b[0m 2ms/step - d_loss: 0.4182 - g_loss: 2.1778\n",
            "Epoch 14/30\n",
            "\u001b[1m1388/1388\u001b[0m \u001b[32m━━━━━━━━━━━━━━━━━━━━\u001b[0m\u001b[37m\u001b[0m \u001b[1m3s\u001b[0m 2ms/step - d_loss: 0.4186 - g_loss: 2.1862\n",
            "Epoch 15/30\n",
            "\u001b[1m1388/1388\u001b[0m \u001b[32m━━━━━━━━━━━━━━━━━━━━\u001b[0m\u001b[37m\u001b[0m \u001b[1m3s\u001b[0m 2ms/step - d_loss: 0.4148 - g_loss: 2.2017\n",
            "Epoch 16/30\n",
            "\u001b[1m1388/1388\u001b[0m \u001b[32m━━━━━━━━━━━━━━━━━━━━\u001b[0m\u001b[37m\u001b[0m \u001b[1m3s\u001b[0m 2ms/step - d_loss: 0.4176 - g_loss: 2.1822\n",
            "Epoch 17/30\n",
            "\u001b[1m1388/1388\u001b[0m \u001b[32m━━━━━━━━━━━━━━━━━━━━\u001b[0m\u001b[37m\u001b[0m \u001b[1m3s\u001b[0m 2ms/step - d_loss: 0.4147 - g_loss: 2.1658\n",
            "Epoch 18/30\n",
            "\u001b[1m1388/1388\u001b[0m \u001b[32m━━━━━━━━━━━━━━━━━━━━\u001b[0m\u001b[37m\u001b[0m \u001b[1m3s\u001b[0m 2ms/step - d_loss: 0.4144 - g_loss: 2.1958\n",
            "Epoch 19/30\n",
            "\u001b[1m1388/1388\u001b[0m \u001b[32m━━━━━━━━━━━━━━━━━━━━\u001b[0m\u001b[37m\u001b[0m \u001b[1m3s\u001b[0m 2ms/step - d_loss: 0.4111 - g_loss: 2.1730\n",
            "Epoch 20/30\n",
            "\u001b[1m1388/1388\u001b[0m \u001b[32m━━━━━━━━━━━━━━━━━━━━\u001b[0m\u001b[37m\u001b[0m \u001b[1m3s\u001b[0m 2ms/step - d_loss: 0.4138 - g_loss: 2.2001\n",
            "Epoch 21/30\n",
            "\u001b[1m1388/1388\u001b[0m \u001b[32m━━━━━━━━━━━━━━━━━━━━\u001b[0m\u001b[37m\u001b[0m \u001b[1m3s\u001b[0m 2ms/step - d_loss: 0.4151 - g_loss: 2.2064\n",
            "Epoch 22/30\n",
            "\u001b[1m1388/1388\u001b[0m \u001b[32m━━━━━━━━━━━━━━━━━━━━\u001b[0m\u001b[37m\u001b[0m \u001b[1m3s\u001b[0m 2ms/step - d_loss: 0.4165 - g_loss: 2.1736\n",
            "Epoch 23/30\n",
            "\u001b[1m1388/1388\u001b[0m \u001b[32m━━━━━━━━━━━━━━━━━━━━\u001b[0m\u001b[37m\u001b[0m \u001b[1m3s\u001b[0m 2ms/step - d_loss: 0.4089 - g_loss: 2.1822\n",
            "Epoch 24/30\n",
            "\u001b[1m1388/1388\u001b[0m \u001b[32m━━━━━━━━━━━━━━━━━━━━\u001b[0m\u001b[37m\u001b[0m \u001b[1m3s\u001b[0m 2ms/step - d_loss: 0.4116 - g_loss: 2.1855\n",
            "Epoch 25/30\n",
            "\u001b[1m1388/1388\u001b[0m \u001b[32m━━━━━━━━━━━━━━━━━━━━\u001b[0m\u001b[37m\u001b[0m \u001b[1m3s\u001b[0m 2ms/step - d_loss: 0.4105 - g_loss: 2.1785\n",
            "Epoch 26/30\n",
            "\u001b[1m1388/1388\u001b[0m \u001b[32m━━━━━━━━━━━━━━━━━━━━\u001b[0m\u001b[37m\u001b[0m \u001b[1m3s\u001b[0m 2ms/step - d_loss: 0.4122 - g_loss: 2.1903\n",
            "Epoch 27/30\n",
            "\u001b[1m1388/1388\u001b[0m \u001b[32m━━━━━━━━━━━━━━━━━━━━\u001b[0m\u001b[37m\u001b[0m \u001b[1m3s\u001b[0m 2ms/step - d_loss: 0.4163 - g_loss: 2.1748\n",
            "Epoch 28/30\n",
            "\u001b[1m1388/1388\u001b[0m \u001b[32m━━━━━━━━━━━━━━━━━━━━\u001b[0m\u001b[37m\u001b[0m \u001b[1m2s\u001b[0m 2ms/step - d_loss: 0.4109 - g_loss: 2.1820\n",
            "Epoch 29/30\n",
            "\u001b[1m1388/1388\u001b[0m \u001b[32m━━━━━━━━━━━━━━━━━━━━\u001b[0m\u001b[37m\u001b[0m \u001b[1m3s\u001b[0m 2ms/step - d_loss: 0.4141 - g_loss: 2.1477\n",
            "Epoch 30/30\n",
            "\u001b[1m1388/1388\u001b[0m \u001b[32m━━━━━━━━━━━━━━━━━━━━\u001b[0m\u001b[37m\u001b[0m \u001b[1m3s\u001b[0m 2ms/step - d_loss: 0.4072 - g_loss: 2.1941\n"
          ]
        },
        {
          "output_type": "execute_result",
          "data": {
            "text/plain": [
              "<keras.src.callbacks.history.History at 0x7e70f03b9ae0>"
            ]
          },
          "metadata": {},
          "execution_count": 94
        }
      ]
    },
    {
      "cell_type": "code",
      "execution_count": 50,
      "metadata": {
        "id": "W1ptCF4Krc1J"
      },
      "outputs": [],
      "source": [
        "MAPPING_TABLE = {\n",
        "    'a': 0,\n",
        "    'b': 1,\n",
        "    'c': 2,\n",
        "    'd': 3,\n",
        "    'e': 4,\n",
        "    'f': 5,\n",
        "    'g': 6,\n",
        "    'h': 7,\n",
        "    'i': 8,\n",
        "    'j': 9,\n",
        "    'k': 10,\n",
        "    'l': 11,\n",
        "    'm': 12,\n",
        "    'n': 13,\n",
        "    'o': 14,\n",
        "    'p': 15,\n",
        "    'q': 16,\n",
        "    'r': 17,\n",
        "    's': 18,\n",
        "    't': 19,\n",
        "    'u': 20,\n",
        "    'v': 21,\n",
        "    'w': 22,\n",
        "    'x': 23,\n",
        "    'y': 24,\n",
        "    'z': 25\n",
        "}\n",
        "def generate_letter(letter):\n",
        "  mapped_letter = MAPPING_TABLE[letter]\n",
        "  random_latent_vectors = keras.random.normal(shape=(1, latent_dim))\n",
        "  one_hot_label = (ops.one_hot(mapped_letter, num_classes=n_classes))\n",
        "  one_hot_label = tf.expand_dims(one_hot_label, axis=0)\n",
        "  generated_images = gan.generator([random_latent_vectors, one_hot_label])\n",
        "  generated_images = generated_images.numpy()\n",
        "  return generated_images[0]"
      ]
    },
    {
      "cell_type": "code",
      "source": [
        "def plot_string(word):\n",
        "\n",
        "  fig, ax = plt.subplots(1, len(word), figsize=(len(word)*2, 2))\n",
        "  for i in range(len(word)):\n",
        "    generated_letter = generate_letter(word[i])\n",
        "    ax[i].imshow(generated_letter, cmap='gray')\n",
        "    ax[i].axis('off')\n",
        "\n",
        "  plt.subplots_adjust(wspace=0, hspace=0)\n",
        "  plt.show()\n"
      ],
      "metadata": {
        "id": "ugKYya5wwytY"
      },
      "execution_count": 68,
      "outputs": []
    },
    {
      "cell_type": "code",
      "source": [
        "plot_string(\"machine\")"
      ],
      "metadata": {
        "colab": {
          "base_uri": "https://localhost:8080/",
          "height": 191
        },
        "id": "eN6jPDMhxDj_",
        "outputId": "d313b35e-7c60-418c-b36a-d34044261ac5"
      },
      "execution_count": 99,
      "outputs": [
        {
          "output_type": "display_data",
          "data": {
            "text/plain": [
              "<Figure size 1400x200 with 7 Axes>"
            ],
            "image/png": "[encoded data removed]"
          },
          "metadata": {}
        }
      ]
    },
    {
      "cell_type": "code",
      "source": [
        "plot_string(\"featuresflow\")"
      ],
      "metadata": {
        "colab": {
          "base_uri": "https://localhost:8080/",
          "height": 182
        },
        "id": "X0KRXnghzptj",
        "outputId": "d28f466d-a5b6-4dc3-c5cf-03c4e049e4a9"
      },
      "execution_count": 100,
      "outputs": [
        {
          "output_type": "display_data",
          "data": {
            "text/plain": [
              "<Figure size 2400x200 with 12 Axes>"
            ],
            "image/png": "[encoded data removed]"
          },
          "metadata": {}
        }
      ]
    }
  ],
  "metadata": {
    "accelerator": "GPU",
    "colab": {
      "gpuType": "T4",
      "machine_shape": "hm",
      "provenance": []
    },
    "kernelspec": {
      "display_name": "Python 3",
      "name": "python3"
    },
    "language_info": {
      "codemirror_mode": {
        "name": "ipython",
        "version": 3
      },
      "file_extension": ".py",
      "mimetype": "text/x-python",
      "name": "python",
      "nbconvert_exporter": "python",
      "pygments_lexer": "ipython3",
      "version": "3.11.9"
    }
  },
  "nbformat": 4,
  "nbformat_minor": 0
}