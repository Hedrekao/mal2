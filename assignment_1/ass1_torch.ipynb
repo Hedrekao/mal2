{
 "cells": [
  {
   "cell_type": "markdown",
   "metadata": {},
   "source": [
    "### TODO\n",
    "- optimize hyper params (more layers, more neurons, different lr etc, more epochs)\n",
    "- add dropout for regularization (note that we cannot directly then compare training and val loss during training, as dropout is not active during validation)\n",
    "- display the confusion matrix\n",
    "- based on confusion matrix show the numbers that are close to each other, display their spectograms"
   ]
  },
  {
   "cell_type": "code",
   "execution_count": 121,
   "metadata": {},
   "outputs": [],
   "source": [
    "import torch\n",
    "import numpy as np\n",
    "from torch import nn\n",
    "from torch.utils.data import DataLoader\n",
    "from tqdm import tqdm\n",
    "import torch.nn.functional as F"
   ]
  },
  {
   "cell_type": "code",
   "execution_count": 122,
   "metadata": {},
   "outputs": [],
   "source": [
    "# if possible we want to use the GPU for training\n",
    "device = torch.device(\"cuda\" if torch.cuda.is_available() else \"cpu\")"
   ]
  },
  {
   "cell_type": "code",
   "execution_count": 123,
   "metadata": {},
   "outputs": [],
   "source": [
    "# load the data into tensors, target should be an integer\n",
    "X = torch.tensor(np.load('x_digits.npy'), dtype=torch.float32)\n",
    "y = torch.tensor(np.load('y_digits.npy'), dtype=torch.int64)\n"
   ]
  },
  {
   "cell_type": "code",
   "execution_count": 124,
   "metadata": {},
   "outputs": [
    {
     "data": {
      "text/plain": [
       "(torch.Size([35631, 129, 71]), torch.Size([35631]))"
      ]
     },
     "execution_count": 124,
     "metadata": {},
     "output_type": "execute_result"
    }
   ],
   "source": [
    "X.shape, y.shape"
   ]
  },
  {
   "cell_type": "code",
   "execution_count": 125,
   "metadata": {},
   "outputs": [],
   "source": [
    "# zip the data and target together\n",
    "zip_data = list(zip(X, y))"
   ]
  },
  {
   "cell_type": "code",
   "execution_count": 126,
   "metadata": {},
   "outputs": [],
   "source": [
    "# because the data is ordered (all examples of 0, then all examples of 1, etc.), we need to shuffle it, so our batches contain all classes\n",
    "# we shuffle the pairs of observations and targets and then split the data into training, validation and test sets (64%, 16%, 20%)\n",
    "subsets = torch.utils.data.random_split(zip_data, [0.64, 0.16, 0.2])"
   ]
  },
  {
   "cell_type": "code",
   "execution_count": 127,
   "metadata": {},
   "outputs": [],
   "source": [
    "batch_size = 64"
   ]
  },
  {
   "cell_type": "code",
   "execution_count": 128,
   "metadata": {},
   "outputs": [],
   "source": [
    "# create dataloaders for the training, validation and test set\n",
    "# in training we want to shuffle the data each epoch, not to overfit to the order of the data\n",
    "train_dataloader = DataLoader(subsets[0], batch_size=batch_size, shuffle=True)\n",
    "val_dataloader = DataLoader(subsets[1], batch_size=batch_size, shuffle=False)\n",
    "test_dataloader = DataLoader(subsets[2], batch_size=batch_size, shuffle=False)\n",
    "\n"
   ]
  },
  {
   "cell_type": "code",
   "execution_count": 129,
   "metadata": {},
   "outputs": [],
   "source": [
    "# we define our fully connected neural network\n",
    "# we use batch normalization to stabilize training\n",
    "# we also use it before the first layer to normalize the input data\n",
    "# becaues the spectogram is 2D, we flatten it to a 1D tensor\n",
    "# we use ReLU as activation function\n",
    "# we use kaiming (He) initialization for the weights in linear layers, because we use ReLU\n",
    "class FCNet(nn.Module):\n",
    "    def __init__(self):\n",
    "        super().__init__()\n",
    "        self.flatten = nn.Flatten()\n",
    "\n",
    "        self.sequent = nn.Sequential(\n",
    "            nn.BatchNorm1d(129*71), # kinda scaling\n",
    "            nn.Linear(129*71, 64),\n",
    "            nn.ReLU(),\n",
    "            nn.BatchNorm1d(64),\n",
    "            nn.Linear(64, 64),\n",
    "            nn.ReLU(),\n",
    "            nn.BatchNorm1d(64),\n",
    "            nn.Linear(64, 64),\n",
    "            nn.ReLU(),\n",
    "            nn.BatchNorm1d(64),\n",
    "            nn.Linear(64, 10)\n",
    "        )\n",
    "\n",
    "        self.sequent.apply(self.__init_weights)\n",
    "    \n",
    "    def forward(self, x):\n",
    "        x = self.flatten(x)\n",
    "        x = self.sequent(x)\n",
    "        return x\n",
    "    \n",
    "    def __init_weights(self, m):\n",
    "        if isinstance(m, nn.Linear):\n",
    "            torch.nn.init.kaiming_normal_(m.weight)"
   ]
  },
  {
   "cell_type": "code",
   "execution_count": 130,
   "metadata": {},
   "outputs": [],
   "source": [
    "# if possible transfer the model to the GPU\n",
    "model = FCNet()\n",
    "model = model.to(device)"
   ]
  },
  {
   "cell_type": "code",
   "execution_count": 131,
   "metadata": {},
   "outputs": [],
   "source": [
    "n_train = len(subsets[0].indices)\n",
    "n_val = len(subsets[1].indices)\n",
    "n_test = len(subsets[2].indices)"
   ]
  },
  {
   "cell_type": "code",
   "execution_count": 132,
   "metadata": {},
   "outputs": [
    {
     "name": "stderr",
     "output_type": "stream",
     "text": [
      "  0%|          | 0/30 [00:00<?, ?it/s]"
     ]
    },
    {
     "name": "stderr",
     "output_type": "stream",
     "text": [
      "  3%|▎         | 1/30 [00:06<03:20,  6.91s/it]"
     ]
    },
    {
     "name": "stdout",
     "output_type": "stream",
     "text": [
      "Epoch 1 - Accuracy: 0.4925 - Loss: 1.4199 - Val Loss: 0.9601, Val accuracy: 0.6588\n"
     ]
    },
    {
     "name": "stderr",
     "output_type": "stream",
     "text": [
      "  7%|▋         | 2/30 [00:11<02:35,  5.55s/it]"
     ]
    },
    {
     "name": "stdout",
     "output_type": "stream",
     "text": [
      "Epoch 2 - Accuracy: 0.7128 - Loss: 0.8277 - Val Loss: 0.6711, Val accuracy: 0.7676\n"
     ]
    },
    {
     "name": "stderr",
     "output_type": "stream",
     "text": [
      " 10%|█         | 3/30 [00:14<02:01,  4.48s/it]"
     ]
    },
    {
     "name": "stdout",
     "output_type": "stream",
     "text": [
      "Epoch 3 - Accuracy: 0.7757 - Loss: 0.6500 - Val Loss: 0.6052, Val accuracy: 0.7927\n"
     ]
    },
    {
     "name": "stderr",
     "output_type": "stream",
     "text": [
      " 13%|█▎        | 4/30 [00:17<01:41,  3.90s/it]"
     ]
    },
    {
     "name": "stdout",
     "output_type": "stream",
     "text": [
      "Epoch 4 - Accuracy: 0.8066 - Loss: 0.5683 - Val Loss: 0.5906, Val accuracy: 0.7997\n"
     ]
    },
    {
     "name": "stderr",
     "output_type": "stream",
     "text": [
      " 17%|█▋        | 5/30 [00:20<01:28,  3.55s/it]"
     ]
    },
    {
     "name": "stdout",
     "output_type": "stream",
     "text": [
      "Epoch 5 - Accuracy: 0.8258 - Loss: 0.5183 - Val Loss: 0.5219, Val accuracy: 0.8277\n"
     ]
    },
    {
     "name": "stderr",
     "output_type": "stream",
     "text": [
      " 20%|██        | 6/30 [00:23<01:20,  3.34s/it]"
     ]
    },
    {
     "name": "stdout",
     "output_type": "stream",
     "text": [
      "Epoch 6 - Accuracy: 0.8358 - Loss: 0.4767 - Val Loss: 0.5032, Val accuracy: 0.8332\n"
     ]
    },
    {
     "name": "stderr",
     "output_type": "stream",
     "text": [
      " 23%|██▎       | 7/30 [00:26<01:16,  3.34s/it]"
     ]
    },
    {
     "name": "stdout",
     "output_type": "stream",
     "text": [
      "Epoch 7 - Accuracy: 0.8457 - Loss: 0.4431 - Val Loss: 0.4855, Val accuracy: 0.8362\n"
     ]
    },
    {
     "name": "stderr",
     "output_type": "stream",
     "text": [
      " 27%|██▋       | 8/30 [00:29<01:10,  3.21s/it]"
     ]
    },
    {
     "name": "stdout",
     "output_type": "stream",
     "text": [
      "Epoch 8 - Accuracy: 0.8617 - Loss: 0.4162 - Val Loss: 0.5207, Val accuracy: 0.8260\n"
     ]
    },
    {
     "name": "stderr",
     "output_type": "stream",
     "text": [
      " 30%|███       | 9/30 [00:32<01:05,  3.12s/it]"
     ]
    },
    {
     "name": "stdout",
     "output_type": "stream",
     "text": [
      "Epoch 9 - Accuracy: 0.8650 - Loss: 0.3937 - Val Loss: 0.5087, Val accuracy: 0.8332\n"
     ]
    },
    {
     "name": "stderr",
     "output_type": "stream",
     "text": [
      " 33%|███▎      | 10/30 [00:35<01:01,  3.07s/it]"
     ]
    },
    {
     "name": "stdout",
     "output_type": "stream",
     "text": [
      "Epoch 10 - Accuracy: 0.8721 - Loss: 0.3739 - Val Loss: 0.4800, Val accuracy: 0.8437\n"
     ]
    },
    {
     "name": "stderr",
     "output_type": "stream",
     "text": [
      " 37%|███▋      | 11/30 [00:39<01:01,  3.24s/it]"
     ]
    },
    {
     "name": "stdout",
     "output_type": "stream",
     "text": [
      "Epoch 11 - Accuracy: 0.8726 - Loss: 0.3693 - Val Loss: 0.5126, Val accuracy: 0.8353\n"
     ]
    },
    {
     "name": "stderr",
     "output_type": "stream",
     "text": [
      " 40%|████      | 12/30 [00:43<01:01,  3.41s/it]"
     ]
    },
    {
     "name": "stdout",
     "output_type": "stream",
     "text": [
      "Epoch 12 - Accuracy: 0.8821 - Loss: 0.3481 - Val Loss: 0.4919, Val accuracy: 0.8386\n"
     ]
    },
    {
     "name": "stderr",
     "output_type": "stream",
     "text": [
      " 43%|████▎     | 13/30 [00:46<00:56,  3.34s/it]"
     ]
    },
    {
     "name": "stdout",
     "output_type": "stream",
     "text": [
      "Epoch 13 - Accuracy: 0.8882 - Loss: 0.3291 - Val Loss: 0.4197, Val accuracy: 0.8641\n"
     ]
    },
    {
     "name": "stderr",
     "output_type": "stream",
     "text": [
      " 47%|████▋     | 14/30 [00:49<00:53,  3.33s/it]"
     ]
    },
    {
     "name": "stdout",
     "output_type": "stream",
     "text": [
      "Epoch 14 - Accuracy: 0.8896 - Loss: 0.3265 - Val Loss: 0.4701, Val accuracy: 0.8502\n"
     ]
    },
    {
     "name": "stderr",
     "output_type": "stream",
     "text": [
      " 50%|█████     | 15/30 [00:52<00:49,  3.32s/it]"
     ]
    },
    {
     "name": "stdout",
     "output_type": "stream",
     "text": [
      "Epoch 15 - Accuracy: 0.8946 - Loss: 0.3084 - Val Loss: 0.4573, Val accuracy: 0.8499\n"
     ]
    },
    {
     "name": "stderr",
     "output_type": "stream",
     "text": [
      " 53%|█████▎    | 16/30 [00:56<00:46,  3.30s/it]"
     ]
    },
    {
     "name": "stdout",
     "output_type": "stream",
     "text": [
      "Epoch 16 - Accuracy: 0.8943 - Loss: 0.3088 - Val Loss: 0.4269, Val accuracy: 0.8642\n"
     ]
    },
    {
     "name": "stderr",
     "output_type": "stream",
     "text": [
      " 57%|█████▋    | 17/30 [01:00<00:48,  3.72s/it]"
     ]
    },
    {
     "name": "stdout",
     "output_type": "stream",
     "text": [
      "Epoch 17 - Accuracy: 0.8970 - Loss: 0.3022 - Val Loss: 0.4575, Val accuracy: 0.8548\n"
     ]
    },
    {
     "name": "stderr",
     "output_type": "stream",
     "text": [
      " 60%|██████    | 18/30 [01:04<00:43,  3.60s/it]"
     ]
    },
    {
     "name": "stdout",
     "output_type": "stream",
     "text": [
      "Epoch 18 - Accuracy: 0.9010 - Loss: 0.2893 - Val Loss: 0.4744, Val accuracy: 0.8451\n"
     ]
    },
    {
     "name": "stderr",
     "output_type": "stream",
     "text": [
      " 63%|██████▎   | 19/30 [01:07<00:39,  3.55s/it]"
     ]
    },
    {
     "name": "stdout",
     "output_type": "stream",
     "text": [
      "Epoch 19 - Accuracy: 0.9009 - Loss: 0.2909 - Val Loss: 0.4686, Val accuracy: 0.8506\n"
     ]
    },
    {
     "name": "stderr",
     "output_type": "stream",
     "text": [
      " 67%|██████▋   | 20/30 [01:11<00:35,  3.51s/it]"
     ]
    },
    {
     "name": "stdout",
     "output_type": "stream",
     "text": [
      "Epoch 20 - Accuracy: 0.9383 - Loss: 0.1849 - Val Loss: 0.3525, Val accuracy: 0.8881\n"
     ]
    },
    {
     "name": "stderr",
     "output_type": "stream",
     "text": [
      " 70%|███████   | 21/30 [01:14<00:31,  3.47s/it]"
     ]
    },
    {
     "name": "stdout",
     "output_type": "stream",
     "text": [
      "Epoch 21 - Accuracy: 0.9376 - Loss: 0.1847 - Val Loss: 0.3882, Val accuracy: 0.8767\n"
     ]
    },
    {
     "name": "stderr",
     "output_type": "stream",
     "text": [
      " 73%|███████▎  | 22/30 [01:17<00:27,  3.47s/it]"
     ]
    },
    {
     "name": "stdout",
     "output_type": "stream",
     "text": [
      "Epoch 22 - Accuracy: 0.9417 - Loss: 0.1706 - Val Loss: 0.4372, Val accuracy: 0.8718\n"
     ]
    },
    {
     "name": "stderr",
     "output_type": "stream",
     "text": [
      " 77%|███████▋  | 23/30 [01:21<00:24,  3.43s/it]"
     ]
    },
    {
     "name": "stdout",
     "output_type": "stream",
     "text": [
      "Epoch 23 - Accuracy: 0.9448 - Loss: 0.1634 - Val Loss: 0.4005, Val accuracy: 0.8784\n"
     ]
    },
    {
     "name": "stderr",
     "output_type": "stream",
     "text": [
      " 80%|████████  | 24/30 [01:24<00:20,  3.48s/it]"
     ]
    },
    {
     "name": "stdout",
     "output_type": "stream",
     "text": [
      "Epoch 24 - Accuracy: 0.9471 - Loss: 0.1576 - Val Loss: 0.3842, Val accuracy: 0.8820\n"
     ]
    },
    {
     "name": "stderr",
     "output_type": "stream",
     "text": [
      " 83%|████████▎ | 25/30 [01:28<00:17,  3.59s/it]"
     ]
    },
    {
     "name": "stdout",
     "output_type": "stream",
     "text": [
      "Epoch 25 - Accuracy: 0.9462 - Loss: 0.1586 - Val Loss: 0.3859, Val accuracy: 0.8805\n"
     ]
    },
    {
     "name": "stderr",
     "output_type": "stream",
     "text": [
      " 87%|████████▋ | 26/30 [01:33<00:15,  3.97s/it]"
     ]
    },
    {
     "name": "stdout",
     "output_type": "stream",
     "text": [
      "Epoch 26 - Accuracy: 0.9456 - Loss: 0.1593 - Val Loss: 0.4076, Val accuracy: 0.8784\n"
     ]
    },
    {
     "name": "stderr",
     "output_type": "stream",
     "text": [
      " 90%|█████████ | 27/30 [01:37<00:11,  3.84s/it]"
     ]
    },
    {
     "name": "stdout",
     "output_type": "stream",
     "text": [
      "Epoch 27 - Accuracy: 0.9661 - Loss: 0.1033 - Val Loss: 0.3378, Val accuracy: 0.8974\n"
     ]
    },
    {
     "name": "stderr",
     "output_type": "stream",
     "text": [
      " 93%|█████████▎| 28/30 [01:40<00:07,  3.74s/it]"
     ]
    },
    {
     "name": "stdout",
     "output_type": "stream",
     "text": [
      "Epoch 28 - Accuracy: 0.9700 - Loss: 0.0899 - Val Loss: 0.3641, Val accuracy: 0.8974\n"
     ]
    },
    {
     "name": "stderr",
     "output_type": "stream",
     "text": [
      " 97%|█████████▋| 29/30 [01:44<00:03,  3.68s/it]"
     ]
    },
    {
     "name": "stdout",
     "output_type": "stream",
     "text": [
      "Epoch 29 - Accuracy: 0.9679 - Loss: 0.0960 - Val Loss: 0.3751, Val accuracy: 0.8965\n"
     ]
    },
    {
     "name": "stderr",
     "output_type": "stream",
     "text": [
      "100%|██████████| 30/30 [01:47<00:00,  3.58s/it]"
     ]
    },
    {
     "name": "stdout",
     "output_type": "stream",
     "text": [
      "Epoch 30 - Accuracy: 0.9694 - Loss: 0.0907 - Val Loss: 0.3790, Val accuracy: 0.8935\n"
     ]
    },
    {
     "name": "stderr",
     "output_type": "stream",
     "text": [
      "\n"
     ]
    }
   ],
   "source": [
    "# we use the AdamW optimizer and reduce the learning rate on plateau after 5 epochs without improvement\n",
    "optimizer = torch.optim.AdamW(model.parameters(), lr=0.01)\n",
    "scheduler = torch.optim.lr_scheduler.ReduceLROnPlateau(optimizer, patience=5, factor=0.5)\n",
    "\n",
    "# we train the model for 30 epochs\n",
    "min_val_loss = float('inf')\n",
    "early_stop = 0\n",
    "\n",
    "for i in tqdm(range(30)):\n",
    "\n",
    "\n",
    "    # we put the model in training mode (important for batch normalization)\n",
    "    model.train()\n",
    "    acc = 0\n",
    "    total_loss = 0\n",
    "    # we do forward and backward pass for each batch until we have seen all training data\n",
    "    # we calculate the accuracy and loss for the training data\n",
    "    for X_batch, y_batch in train_dataloader:\n",
    "        X_batch, y_batch = X_batch.to(device), y_batch.to(device)\n",
    "        y_pred = model(X_batch)\n",
    "        loss = F.cross_entropy(y_pred, y_batch)\n",
    "        total_loss += loss\n",
    "        acc += (torch.argmax(y_pred, dim=1) == y_batch).sum().item()\n",
    "        optimizer.zero_grad()\n",
    "        loss.backward()\n",
    "        optimizer.step()\n",
    "\n",
    "    # because we were getting loss and accuracy per batch, we need to average it\n",
    "    acc /= n_train\n",
    "    total_loss /= len(train_dataloader)\n",
    "\n",
    "    model.eval()\n",
    "    val_loss = 0\n",
    "    val_acc = 0\n",
    "    # for validation we don't need to calculate gradients\n",
    "    with torch.no_grad():\n",
    "        for X_batch, y_batch in val_dataloader:\n",
    "            X_batch, y_batch = X_batch.to(device), y_batch.to(device)\n",
    "            y_pred = model(X_batch)\n",
    "            val_loss += F.cross_entropy(y_pred, y_batch).item()\n",
    "            # we calculate the accuracy for the validation data\n",
    "            # we check the number of cases where the class with highest predicted probability is the same as the target class\n",
    "            # .item() extracts the value from the tensor\n",
    "            val_acc += (torch.argmax(y_pred, dim=1) == y_batch).sum().item()\n",
    "    \n",
    "    val_loss /= len(val_dataloader)\n",
    "\n",
    "    print(f\"Epoch {i+1} - Accuracy: {acc:.4f} - Loss: {total_loss:.4f} - Val Loss: {val_loss:.4f}, Val accuracy: {val_acc/n_val:.4f}\")\n",
    "    # we implement early stopping, if the validation loss doesn't improve for 10 epochs, we stop training\n",
    "    if val_loss < min_val_loss:\n",
    "        min_val_loss = val_loss\n",
    "        early_stop = 0\n",
    "    else:\n",
    "        early_stop += 1\n",
    "        if early_stop == 10:\n",
    "            break\n",
    "\n",
    "    # we reduce the learning rate if the validation loss doesn't improve for 5 epochs\n",
    "    scheduler.step(val_loss)\n",
    "        "
   ]
  },
  {
   "cell_type": "code",
   "execution_count": 148,
   "metadata": {},
   "outputs": [
    {
     "name": "stdout",
     "output_type": "stream",
     "text": [
      "Test accuracy: 0.9001\n"
     ]
    }
   ],
   "source": [
    "model.eval()\n",
    "acc = 0\n",
    "\n",
    "# empty confusion matrix\n",
    "confusion_matrix = np.zeros((10, 10))\n",
    "\n",
    "with torch.no_grad():\n",
    "    for X_batch, y_batch in test_dataloader:\n",
    "        X_batch, y_batch = X_batch.to(device), y_batch.to(device)\n",
    "        y_pred = model(X_batch)\n",
    "        acc += (torch.argmax(y_pred, dim=1) == y_batch).sum().item()\n",
    "\n",
    "        # incrementing cells in confusion matrix\n",
    "        for i in range(len(y_batch)):\n",
    "            confusion_matrix[y_batch[i], torch.argmax(y_pred[i])] += 1\n",
    "    \n",
    "acc /= n_test\n",
    "\n",
    "print(f\"Test accuracy: {acc:.4f}\")"
   ]
  },
  {
   "cell_type": "code",
   "execution_count": 149,
   "metadata": {},
   "outputs": [
    {
     "data": {
      "image/png": "[encoded data removed]",
      "text/plain": [
       "<Figure size 640x480 with 2 Axes>"
      ]
     },
     "metadata": {},
     "output_type": "display_data"
    }
   ],
   "source": [
    "import seaborn as sns\n",
    "import matplotlib.pyplot as plt\n",
    "\n",
    "\n",
    "# ploting the confusion matrix\n",
    "# we use seaborn to plot the confusion matrix\n",
    "# we display the number of cases in each cell of the matrix\n",
    "\n",
    "sns.heatmap(confusion_matrix, annot=True, annot_kws={\"size\": 8}, fmt='g', cmap='Blues')\n",
    "\n",
    "plt.xlabel(\"Predicted labels\")\n",
    "plt.ylabel(\"True label\")\n",
    "\n",
    "plt.title(\"Confusion matrix\")\n",
    "\n",
    "plt.show()\n"
   ]
  },
  {
   "cell_type": "markdown",
   "metadata": {},
   "source": [
    "From the confusion matrix we can clearly see that one of the caveats of this model is that it confuses 9 with 1 or 5.\n",
    "However, this error is only visible when the real number is 9. Other than that the we don't catch any drastic anomalies, rest of the errors are more or less evenly distributed."
   ]
  }
 ],
 "metadata": {
  "kernelspec": {
   "display_name": "venv",
   "language": "python",
   "name": "python3"
  },
  "language_info": {
   "codemirror_mode": {
    "name": "ipython",
    "version": 3
   },
   "file_extension": ".py",
   "mimetype": "text/x-python",
   "name": "python",
   "nbconvert_exporter": "python",
   "pygments_lexer": "ipython3",
   "version": "3.11.9"
  }
 },
 "nbformat": 4,
 "nbformat_minor": 2
}
